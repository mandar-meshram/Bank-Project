{
 "cells": [
  {
   "cell_type": "code",
   "execution_count": 38,
   "id": "30e1fdd8-70c2-4d3a-9530-23bd93742803",
   "metadata": {},
   "outputs": [
    {
     "name": "stdout",
     "output_type": "stream",
     "text": [
      "Welcome to State Bank of India\n"
     ]
    },
    {
     "name": "stdin",
     "output_type": "stream",
     "text": [
      "Please enter 4 digit pin 1234\n"
     ]
    },
    {
     "name": "stdout",
     "output_type": "stream",
     "text": [
      "PIN number verified\n",
      "Please select an option:\n",
      "1. Deposit\n",
      "2. Withdraw\n",
      "3. Balance\n",
      "4. Exit\n"
     ]
    },
    {
     "name": "stdin",
     "output_type": "stream",
     "text": [
      "Select an option:  1\n",
      "Enter amount to deposit 1000\n"
     ]
    },
    {
     "name": "stdout",
     "output_type": "stream",
     "text": [
      "Your amount has been deposited\n",
      "Please select an option:\n",
      "1. Deposit\n",
      "2. Withdraw\n",
      "3. Balance\n",
      "4. Exit\n"
     ]
    },
    {
     "name": "stdin",
     "output_type": "stream",
     "text": [
      "Select an option:  3\n"
     ]
    },
    {
     "name": "stdout",
     "output_type": "stream",
     "text": [
      "Your current balance is ₹2000\n",
      "Please select an option:\n",
      "1. Deposit\n",
      "2. Withdraw\n",
      "3. Balance\n",
      "4. Exit\n"
     ]
    },
    {
     "name": "stdin",
     "output_type": "stream",
     "text": [
      "Select an option:  2\n",
      "Enter amount to withdraw 2000\n"
     ]
    },
    {
     "name": "stdout",
     "output_type": "stream",
     "text": [
      "Amount Successfully withdrawn\n",
      "Please select an option:\n",
      "1. Deposit\n",
      "2. Withdraw\n",
      "3. Balance\n",
      "4. Exit\n"
     ]
    },
    {
     "name": "stdin",
     "output_type": "stream",
     "text": [
      "Select an option:  3\n"
     ]
    },
    {
     "name": "stdout",
     "output_type": "stream",
     "text": [
      "Your current balance is ₹0\n",
      "Please select an option:\n",
      "1. Deposit\n",
      "2. Withdraw\n",
      "3. Balance\n",
      "4. Exit\n"
     ]
    },
    {
     "name": "stdin",
     "output_type": "stream",
     "text": [
      "Select an option:  1\n",
      "Enter amount to deposit 2000\n"
     ]
    },
    {
     "name": "stdout",
     "output_type": "stream",
     "text": [
      "Your amount has been deposited\n",
      "Please select an option:\n",
      "1. Deposit\n",
      "2. Withdraw\n",
      "3. Balance\n",
      "4. Exit\n"
     ]
    },
    {
     "name": "stdin",
     "output_type": "stream",
     "text": [
      "Select an option:  2\n",
      "Enter amount to withdraw 2100\n"
     ]
    },
    {
     "name": "stdout",
     "output_type": "stream",
     "text": [
      "Insufficient Balance\n",
      "Please select an option:\n",
      "1. Deposit\n",
      "2. Withdraw\n",
      "3. Balance\n",
      "4. Exit\n"
     ]
    },
    {
     "name": "stdin",
     "output_type": "stream",
     "text": [
      "Select an option:  3\n"
     ]
    },
    {
     "name": "stdout",
     "output_type": "stream",
     "text": [
      "Your current balance is ₹2000\n",
      "Please select an option:\n",
      "1. Deposit\n",
      "2. Withdraw\n",
      "3. Balance\n",
      "4. Exit\n"
     ]
    },
    {
     "name": "stdin",
     "output_type": "stream",
     "text": [
      "Select an option:  4\n"
     ]
    },
    {
     "name": "stdout",
     "output_type": "stream",
     "text": [
      "Thank you for banking with us\n"
     ]
    }
   ],
   "source": [
    "class Deposit:\n",
    "    def getDeposit(self,balance):\n",
    "        amt = int(input(\"Enter amount to deposit\"))\n",
    "        balance.updateBalance(amt)\n",
    "        print(\"Your amount has been deposited\")\n",
    "        \n",
    "\n",
    "class Withdraw:\n",
    "    def getWithdraw(self,balance):\n",
    "        amt = int(input(\"Enter amount to withdraw\"))\n",
    "        if (amt > balance.balance):\n",
    "            print(\"Insufficient Balance\")\n",
    "        else:\n",
    "            balance.updateBalance(-amt)\n",
    "            print(\"Amount Successfully withdrawn\")\n",
    "       \n",
    "\n",
    "class Balance:\n",
    "    balance = 1000\n",
    "    def updateBalance(self,amt):\n",
    "        self.balance += amt\n",
    "\n",
    "    def getBalance(self):\n",
    "        print(f\"Your current balance is ₹{self.balance}\")\n",
    "        \n",
    "\n",
    "class MainMenu:\n",
    "    def getMainMenu(self):\n",
    "        print(\"Please select an option:\")\n",
    "        print(\"1. Deposit\")\n",
    "        print(\"2. Withdraw\")\n",
    "        print(\"3. Balance\")\n",
    "        print(\"4. Exit\")   \n",
    "\n",
    "class Authentication:\n",
    "    pin = 1234\n",
    "    def getAuthentication(self):\n",
    "        M = MainMenu() \n",
    "        count = 3\n",
    "        while(count > 0):\n",
    "            self.upin = int(input(\"Please enter 4 digit pin\"))\n",
    "            if (self.upin == self.pin):\n",
    "                print('PIN number verified')\n",
    "                return True\n",
    "            else:\n",
    "                print(\"Enter correct pin\")\n",
    "                count -= 1\n",
    "        print(\"Too many wrong attempts. Try after 24hrs\")\n",
    "        return False\n",
    "        \n",
    "class Manager:\n",
    "    def Operation(self):\n",
    "        a = Authentication()\n",
    "        if a.getAuthentication():\n",
    "            b = Balance()\n",
    "            w = Withdraw()\n",
    "            d = Deposit()\n",
    "            m = MainMenu()\n",
    "            flag = True\n",
    "            while flag:\n",
    "                m.getMainMenu()\n",
    "                opt = int(input(\"Select an option: \"))\n",
    "                if opt == 1:\n",
    "                    d.getDeposit(b)\n",
    "                elif opt == 2:\n",
    "                    w.getWithdraw(b)\n",
    "                elif opt == 3:\n",
    "                    b.getBalance()\n",
    "                elif opt == 4:\n",
    "                    print(\"Thank you for banking with us\")\n",
    "                    flag = False\n",
    "                else:\n",
    "                    print(\"Please select a correct option.\")\n",
    "\n",
    "\n",
    "\n",
    "class Bank:\n",
    "    def Welcome(self):\n",
    "        print(\"Welcome to State Bank of India\")\n",
    "        m = Manager()\n",
    "        m.Operation()\n",
    "\n",
    "\n",
    "#starter code\n",
    "b = Bank()\n",
    "b.Welcome()"
   ]
  },
  {
   "cell_type": "code",
   "execution_count": null,
   "id": "b3113baa-7283-4dfe-91d0-24b2a2ab7226",
   "metadata": {},
   "outputs": [],
   "source": []
  }
 ],
 "metadata": {
  "kernelspec": {
   "display_name": "Python 3 (ipykernel)",
   "language": "python",
   "name": "python3"
  },
  "language_info": {
   "codemirror_mode": {
    "name": "ipython",
    "version": 3
   },
   "file_extension": ".py",
   "mimetype": "text/x-python",
   "name": "python",
   "nbconvert_exporter": "python",
   "pygments_lexer": "ipython3",
   "version": "3.12.4"
  }
 },
 "nbformat": 4,
 "nbformat_minor": 5
}
